{
  "nbformat": 4,
  "nbformat_minor": 0,
  "metadata": {
    "colab": {
      "name": "MATLAB to python function conversion",
      "provenance": [],
      "authorship_tag": "ABX9TyNcUL/2EqF49Yf9fmOJDNzE",
      "include_colab_link": true
    },
    "kernelspec": {
      "name": "python3",
      "display_name": "Python 3"
    },
    "language_info": {
      "name": "python"
    }
  },
  "cells": [
    {
      "cell_type": "markdown",
      "metadata": {
        "id": "view-in-github",
        "colab_type": "text"
      },
      "source": [
        "<a href=\"https://colab.research.google.com/github/bard-rose/NeuromatchProject/blob/main/MATLAB_to_python_function_conversion.ipynb\" target=\"_parent\"><img src=\"https://colab.research.google.com/assets/colab-badge.svg\" alt=\"Open In Colab\"/></a>"
      ]
    },
    {
      "cell_type": "markdown",
      "metadata": {
        "id": "zJSTLLvrWFak"
      },
      "source": [
        "###MATLAB to python function translations "
      ]
    },
    {
      "cell_type": "markdown",
      "metadata": {
        "id": "bXRVN5S0WMZB"
      },
      "source": [
        "MATLAB: Interp1 \n",
        "-https://uk.mathworks.com/help/matlab/ref/interp1.html\n",
        "- python: scipy.interpolate interp1d\n",
        "-\n",
        "https://stackoverflow.com/questions/19956388/scipy-interp1d-and-matlab-interp1\n",
        "-https://docs.scipy.org/doc/scipy-0.14.0/reference/generated/scipy.interpolate.interp1d.html\n"
      ]
    },
    {
      "cell_type": "code",
      "metadata": {
        "id": "CFJ19mOdeSo9"
      },
      "source": [
        "class scipy.interpolate.interp1d(x, y, kind='linear', axis=-1, copy=True, bounds_error=True, fill_value=np.nan, assume_sorted=False)"
      ],
      "execution_count": null,
      "outputs": []
    },
    {
      "cell_type": "markdown",
      "metadata": {
        "id": "n3Wa-lJddZA8"
      },
      "source": [
        "MATLAB: [xb,yb]=stairs(x,y)\n",
        "- python: can use numpy.reapeat()\n",
        "-\n",
        "https://stackoverflow.com/questions/42176096/how-to-create-numpy-array-of-steps-equivalent-to-matlabs-stairs-as-plotted-in"
      ]
    },
    {
      "cell_type": "code",
      "metadata": {
        "id": "_RbuWTxVeIRC"
      },
      "source": [
        "xb = numpy.repeat(x, 2)[:-1]\n",
        "yb = numpy.repeat(y, 2)[1:]"
      ],
      "execution_count": null,
      "outputs": []
    },
    {
      "cell_type": "markdown",
      "metadata": {
        "id": "KKGMWlkNWSh5"
      },
      "source": [
        "MATLAB: hist()\n",
        "- python: matplotlib.pyplot.hist() "
      ]
    },
    {
      "cell_type": "code",
      "metadata": {
        "id": "O60d-pV8ey21"
      },
      "source": [
        "matplotlib.pyplot.hist(x, bins=None, range=None, density=False, weights=None, cumulative=False, bottom=None, histtype=’bar’, align=’mid’, orientation=’vertical’, rwidth=None, log=False, color=None, label=None, stacked=False, \\*, data=None, \\*\\*kwargs)"
      ],
      "execution_count": null,
      "outputs": []
    },
    {
      "cell_type": "markdown",
      "metadata": {
        "id": "mcq67006fAzV"
      },
      "source": [
        ""
      ]
    },
    {
      "cell_type": "markdown",
      "metadata": {
        "id": "5Fn13c1-gqBN"
      },
      "source": [
        "MATLAB + python "
      ]
    }
  ]
}