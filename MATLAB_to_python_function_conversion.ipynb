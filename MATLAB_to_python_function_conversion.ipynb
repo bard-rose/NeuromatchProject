{
  "nbformat": 4,
  "nbformat_minor": 0,
  "metadata": {
    "colab": {
      "name": "MATLAB to python function conversion",
      "provenance": [],
      "collapsed_sections": [],
      "authorship_tag": "ABX9TyMV/UJ7Ie6ogRduXezZY5Bi",
      "include_colab_link": true
    },
    "kernelspec": {
      "name": "python3",
      "display_name": "Python 3"
    },
    "language_info": {
      "name": "python"
    }
  },
  "cells": [
    {
      "cell_type": "markdown",
      "metadata": {
        "id": "view-in-github",
        "colab_type": "text"
      },
      "source": [
        "<a href=\"https://colab.research.google.com/github/bard-rose/NeuromatchProject/blob/main/MATLAB_to_python_function_conversion.ipynb\" target=\"_parent\"><img src=\"https://colab.research.google.com/assets/colab-badge.svg\" alt=\"Open In Colab\"/></a>"
      ]
    },
    {
      "cell_type": "markdown",
      "metadata": {
        "id": "zJSTLLvrWFak"
      },
      "source": [
        "###MATLAB to python function translations "
      ]
    },
    {
      "cell_type": "markdown",
      "metadata": {
        "id": "bXRVN5S0WMZB"
      },
      "source": [
        "MATLAB: Interp1 \n",
        "-https://uk.mathworks.com/help/matlab/ref/interp1.html\n",
        "- python: scipy.interpolate interp1d\n",
        "-\n",
        "https://stackoverflow.com/questions/19956388/scipy-interp1d-and-matlab-interp1\n",
        "-https://docs.scipy.org/doc/scipy-0.14.0/reference/generated/scipy.interpolate.interp1d.html\n"
      ]
    },
    {
      "cell_type": "code",
      "metadata": {
        "id": "CFJ19mOdeSo9"
      },
      "source": [
        "from scipy import interpolate\n",
        "f= interpolate.interp1d(x, y, kind='linear', axis=-1, copy=True, bounds_error=True, fill_value=np.nan, assume_sorted=False)"
      ],
      "execution_count": null,
      "outputs": []
    },
    {
      "cell_type": "markdown",
      "metadata": {
        "id": "n3Wa-lJddZA8"
      },
      "source": [
        "MATLAB: [xb,yb]=stairs(x,y)\n",
        "- python: can use numpy.reapeat()\n",
        "-\n",
        "https://stackoverflow.com/questions/42176096/how-to-create-numpy-array-of-steps-equivalent-to-matlabs-stairs-as-plotted-in"
      ]
    },
    {
      "cell_type": "code",
      "metadata": {
        "id": "_RbuWTxVeIRC"
      },
      "source": [
        "import numpy \n",
        "xb = numpy.repeat(x, 2)[:-1]\n",
        "yb = numpy.repeat(y, 2)[1:]"
      ],
      "execution_count": null,
      "outputs": []
    },
    {
      "cell_type": "markdown",
      "metadata": {
        "id": "KKGMWlkNWSh5"
      },
      "source": [
        "MATLAB: hist()\n",
        "- python: matplotlib.pyplot.hist() "
      ]
    },
    {
      "cell_type": "code",
      "metadata": {
        "id": "O60d-pV8ey21"
      },
      "source": [
        "import matplotlib\n",
        "matplotlib.pyplot.hist(x, bins=None, range=None, density=False, weights=None, cumulative=False, bottom=None, histtype=’bar’, align=’mid’, orientation=’vertical’, rwidth=None, log=False, color=None, label=None, stacked=False, \\*, data=None, \\*\\*kwargs)"
      ],
      "execution_count": null,
      "outputs": []
    },
    {
      "cell_type": "markdown",
      "metadata": {
        "id": "qNkl_-K9iDLF"
      },
      "source": [
        "MATLAB: load() # for loading data \n",
        "\n",
        "python: \n",
        "- import pandas or can use numpy \n",
        "- or import numpy to Load data from a text file, with missing values handled as specified. https://numpy.org/doc/1.20/reference/generated/numpy.genfromtxt.html\n",
        "\n"
      ]
    },
    {
      "cell_type": "code",
      "metadata": {
        "id": "0RadNM43id_9"
      },
      "source": [
        "import pandas as pd\n",
        "pd.read_csv('convertcsv.csv', header=None)"
      ],
      "execution_count": null,
      "outputs": []
    },
    {
      "cell_type": "code",
      "metadata": {
        "id": "dnOQvTErjstF"
      },
      "source": [
        "numpy.genfromtxt(fname, dtype=<class 'float'>, comments='#', delimiter=None, skip_header=0, skip_footer=0, converters=None, missing_values=None, filling_values=None, usecols=None, names=None, excludelist=None, deletechars=\" !#$%&'()*+, -./:;<=>?@[\\\\]^{|}~\", replace_space='_', autostrip=False, case_sensitive=True, defaultfmt='f%i', unpack=None, usemask=False, loose=True, invalid_raise=True, max_rows=None, encoding='bytes', *, like=None)"
      ],
      "execution_count": null,
      "outputs": []
    },
    {
      "cell_type": "markdown",
      "metadata": {
        "id": "ewhooyYbion8"
      },
      "source": [
        "MATLAB: rng()\n",
        "- random number generator \n",
        "\n",
        "\n",
        "Python: seed(a, version)\n",
        "- a : Optional. The seed value needed to generate a random number. \n",
        "- version: An integer specifying how to convert the a parameter into a integer.\n",
        "Default value is 2\n",
        "https://www.w3schools.com/python/ref_random_seed.asp\n",
        "  "
      ]
    },
    {
      "cell_type": "code",
      "metadata": {
        "id": "kdoOmIXRj5sG",
        "colab": {
          "base_uri": "https://localhost:8080/"
        },
        "outputId": "d4642b74-531c-43f7-94e6-3d6f2ea19270"
      },
      "source": [
        "import random\n",
        "\n",
        "random.seed(10)\n",
        "print(random.random())"
      ],
      "execution_count": null,
      "outputs": [
        {
          "output_type": "stream",
          "text": [
            "0.5714025946899135\n"
          ],
          "name": "stdout"
        }
      ]
    },
    {
      "cell_type": "markdown",
      "metadata": {
        "id": "rrEZHKxoltRX"
      },
      "source": [
        "MATLAB: sort()\n",
        "\n",
        "Python: \n",
        "\n",
        "*  list.sort() changes the list directly and doesn't return any value\n",
        "*  while sorted(list) doesn't change the list and returns the sorted list.* \n",
        "*  numpy.sort() Return a sorted copy of an array.*\n",
        "*  ndarray.sort Method to sort an array in-place.\n",
        "\n",
        "\n"
      ]
    },
    {
      "cell_type": "code",
      "metadata": {
        "colab": {
          "base_uri": "https://localhost:8080/"
        },
        "id": "s6dlKGHgopTP",
        "outputId": "f79fff24-30ea-4772-ada4-e6e98b49ee16"
      },
      "source": [
        "list = [1, 2, 4, 7, 1, 3]\n",
        "sorted(list)"
      ],
      "execution_count": null,
      "outputs": [
        {
          "output_type": "execute_result",
          "data": {
            "text/plain": [
              "[1, 1, 2, 3, 4, 7]"
            ]
          },
          "metadata": {
            "tags": []
          },
          "execution_count": 12
        }
      ]
    },
    {
      "cell_type": "code",
      "metadata": {
        "colab": {
          "base_uri": "https://localhost:8080/"
        },
        "id": "oSj42FvQmGEN",
        "outputId": "246ee249-36b1-420a-ca86-097aac9d8d84"
      },
      "source": [
        "import numpy\n",
        "a = [1, 2, 4, 7, 1, 3]\n",
        "numpy.sort(a, axis=- 1, kind=None, order=None)"
      ],
      "execution_count": null,
      "outputs": [
        {
          "output_type": "execute_result",
          "data": {
            "text/plain": [
              "array([1, 1, 2, 3, 4, 7])"
            ]
          },
          "metadata": {
            "tags": []
          },
          "execution_count": 13
        }
      ]
    },
    {
      "cell_type": "markdown",
      "metadata": {
        "id": "75ixzCJKqEQ2"
      },
      "source": [
        "MATLAB: hold on \n",
        "\n",
        "Python: pyplot acts as if hold was set to True \n",
        "- plt.show()\n",
        "https://stackoverflow.com/questions/21465988/python-equivalent-to-hold-on-in-matlab"
      ]
    },
    {
      "cell_type": "markdown",
      "metadata": {
        "id": "FR5hX76hrlhW"
      },
      "source": [
        "MATLAB: reshape()\n",
        "- matlab uses Fortran-like index order\n",
        "e.g. B = reshape(A,[],2)\n",
        "- forces into 2 columns \n",
        "e.g.2 c = reshape(A,[4 4 2])\n",
        "ans(:,:,1)\n",
        "\n",
        "Python: numpy.reshape(a, newshape, order='F')\n",
        "- Gives a new shape to an array without changing its data.\n",
        "- use F for Fortran to keen in shape with MATLAB (read the elements of a using this index order, and places the elements into the reshaped array using this Fortran index order rather than C-like order) \n",
        "-https://stackoverflow.com/questions/11892358/matlab-vs-python-reshape\n",
        "\n"
      ]
    },
    {
      "cell_type": "code",
      "metadata": {
        "colab": {
          "base_uri": "https://localhost:8080/"
        },
        "id": "xXOgffBvuc9X",
        "outputId": "9d6b57af-cf93-4e6f-9cf8-79a88e8596c8"
      },
      "source": [
        "import numpy as np\n",
        "A = np.c_[np.arange(1,17), np.arange(17,33)]\n",
        "c = np.reshape(A, (4,4,2), order=\"F\")\n",
        "c[:,:,0]"
      ],
      "execution_count": null,
      "outputs": [
        {
          "output_type": "execute_result",
          "data": {
            "text/plain": [
              "array([[ 1,  5,  9, 13],\n",
              "       [ 2,  6, 10, 14],\n",
              "       [ 3,  7, 11, 15],\n",
              "       [ 4,  8, 12, 16]])"
            ]
          },
          "metadata": {
            "tags": []
          },
          "execution_count": 15
        }
      ]
    },
    {
      "cell_type": "markdown",
      "metadata": {
        "id": "Ua-_CjnwvVzn"
      },
      "source": [
        "MATLAB: rand()\n",
        "\n",
        "-Uniformly distributed random numbers\n",
        "\n",
        "Python: numpy.random.uniform\n",
        "- numpy.random.uniform(low=0.0, high=1.0, size=None)"
      ]
    },
    {
      "cell_type": "code",
      "metadata": {
        "colab": {
          "base_uri": "https://localhost:8080/"
        },
        "id": "39dPNKbOxE-6",
        "outputId": "607b3b28-e801-42b3-8aef-3ad8eec6dcab"
      },
      "source": [
        "s = np.random.uniform(-1,0,10)\n",
        "print(s)"
      ],
      "execution_count": null,
      "outputs": [
        {
          "output_type": "stream",
          "text": [
            "[-0.72268408 -0.3445328  -0.87220825 -0.848111   -0.85285189 -0.9852942\n",
            " -0.47208215 -0.58770227 -0.81547923 -0.11976267]\n"
          ],
          "name": "stdout"
        }
      ]
    },
    {
      "cell_type": "markdown",
      "metadata": {
        "id": "Ntvm0ztgWLs6"
      },
      "source": [
        "MATLAB: find(X)\n",
        "- returns the indices of the array X that point to nonzero elements\n",
        "\n",
        "Python: \n",
        "- you can use numpy's nonzero function\n",
        "- or numpy.where()"
      ]
    },
    {
      "cell_type": "code",
      "metadata": {
        "colab": {
          "base_uri": "https://localhost:8080/"
        },
        "id": "JtO9tLaKX-YV",
        "outputId": "d174a61b-32de-4d12-c619-39a5b34cad40"
      },
      "source": [
        "inds = np.nonzero(A>10)\n",
        "print(inds)"
      ],
      "execution_count": null,
      "outputs": [
        {
          "output_type": "stream",
          "text": [
            "(array([ 0,  1,  2,  3,  4,  5,  6,  7,  8,  9, 10, 10, 11, 11, 12, 12, 13,\n",
            "       13, 14, 14, 15, 15]), array([1, 1, 1, 1, 1, 1, 1, 1, 1, 1, 0, 1, 0, 1, 0, 1, 0, 1, 0, 1, 0, 1]))\n"
          ],
          "name": "stdout"
        }
      ]
    },
    {
      "cell_type": "code",
      "metadata": {
        "colab": {
          "base_uri": "https://localhost:8080/"
        },
        "id": "Rd1o6z5vVgrF",
        "outputId": "fa2fd0c4-59d8-4c2d-dd58-d0d20778fb17"
      },
      "source": [
        " np.where(A > 10)"
      ],
      "execution_count": null,
      "outputs": [
        {
          "output_type": "execute_result",
          "data": {
            "text/plain": [
              "(array([ 0,  1,  2,  3,  4,  5,  6,  7,  8,  9, 10, 10, 11, 11, 12, 12, 13,\n",
              "        13, 14, 14, 15, 15]),\n",
              " array([1, 1, 1, 1, 1, 1, 1, 1, 1, 1, 0, 1, 0, 1, 0, 1, 0, 1, 0, 1, 0, 1]))"
            ]
          },
          "metadata": {
            "tags": []
          },
          "execution_count": 17
        }
      ]
    },
    {
      "cell_type": "markdown",
      "metadata": {
        "id": "MyuRm0ijYfxR"
      },
      "source": [
        "MATLAB: diff()\n",
        "- Y = diff(X) calculates differences between adjacent elements of X along the first array dimension whose size does not equal 1\n",
        "\n",
        "Python: \n",
        "- numpy.diff(a, n=1, axis=-1, prepend=<no value>, append=<no value>)\n",
        "- to calculate the n-th discrete difference along the given axis.\n"
      ]
    },
    {
      "cell_type": "markdown",
      "metadata": {
        "id": "5Fn13c1-gqBN"
      },
      "source": [
        "MATLAB + python: \n",
        "\n",
        "-mean()\n",
        "\n",
        "-std()\n"
      ]
    }
  ]
}