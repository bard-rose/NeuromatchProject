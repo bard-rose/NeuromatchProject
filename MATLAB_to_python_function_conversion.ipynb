{
  "nbformat": 4,
  "nbformat_minor": 0,
  "metadata": {
    "colab": {
      "name": "MATLAB to python function conversion",
      "provenance": [],
      "collapsed_sections": [],
      "authorship_tag": "ABX9TyMiOurZ9TP3SNeVvxi9Wvnf",
      "include_colab_link": true
    },
    "kernelspec": {
      "name": "python3",
      "display_name": "Python 3"
    },
    "language_info": {
      "name": "python"
    }
  },
  "cells": [
    {
      "cell_type": "markdown",
      "metadata": {
        "id": "view-in-github",
        "colab_type": "text"
      },
      "source": [
        "<a href=\"https://colab.research.google.com/github/bard-rose/NeuromatchProject/blob/main/MATLAB_to_python_function_conversion.ipynb\" target=\"_parent\"><img src=\"https://colab.research.google.com/assets/colab-badge.svg\" alt=\"Open In Colab\"/></a>"
      ]
    },
    {
      "cell_type": "markdown",
      "metadata": {
        "id": "zJSTLLvrWFak"
      },
      "source": [
        "###MATLAB to python function translations "
      ]
    },
    {
      "cell_type": "markdown",
      "metadata": {
        "id": "bXRVN5S0WMZB"
      },
      "source": [
        "MATLAB: Interp1 \n",
        "-https://uk.mathworks.com/help/matlab/ref/interp1.html\n",
        "- python: scipy.interpolate interp1d\n",
        "-\n",
        "https://stackoverflow.com/questions/19956388/scipy-interp1d-and-matlab-interp1\n",
        "-https://docs.scipy.org/doc/scipy-0.14.0/reference/generated/scipy.interpolate.interp1d.html\n"
      ]
    },
    {
      "cell_type": "code",
      "metadata": {
        "id": "CFJ19mOdeSo9"
      },
      "source": [
        "class scipy.interpolate.interp1d(x, y, kind='linear', axis=-1, copy=True, bounds_error=True, fill_value=np.nan, assume_sorted=False)"
      ],
      "execution_count": null,
      "outputs": []
    },
    {
      "cell_type": "markdown",
      "metadata": {
        "id": "n3Wa-lJddZA8"
      },
      "source": [
        "MATLAB: [xb,yb]=stairs(x,y)\n",
        "- python: can use numpy.reapeat()\n",
        "-\n",
        "https://stackoverflow.com/questions/42176096/how-to-create-numpy-array-of-steps-equivalent-to-matlabs-stairs-as-plotted-in"
      ]
    },
    {
      "cell_type": "code",
      "metadata": {
        "id": "_RbuWTxVeIRC"
      },
      "source": [
        "import numpy \n",
        "xb = numpy.repeat(x, 2)[:-1]\n",
        "yb = numpy.repeat(y, 2)[1:]"
      ],
      "execution_count": null,
      "outputs": []
    },
    {
      "cell_type": "markdown",
      "metadata": {
        "id": "KKGMWlkNWSh5"
      },
      "source": [
        "MATLAB: hist()\n",
        "- python: matplotlib.pyplot.hist() "
      ]
    },
    {
      "cell_type": "code",
      "metadata": {
        "id": "O60d-pV8ey21"
      },
      "source": [
        "matplotlib.pyplot.hist(x, bins=None, range=None, density=False, weights=None, cumulative=False, bottom=None, histtype=’bar’, align=’mid’, orientation=’vertical’, rwidth=None, log=False, color=None, label=None, stacked=False, \\*, data=None, \\*\\*kwargs)"
      ],
      "execution_count": null,
      "outputs": []
    },
    {
      "cell_type": "markdown",
      "metadata": {
        "id": "qNkl_-K9iDLF"
      },
      "source": [
        "MATLAB: load() # for loading data \n",
        "\n",
        "python: \n",
        "- import pandas or can use numpy \n",
        "- or import numpy to Load data from a text file, with missing values handled as specified. https://numpy.org/doc/1.20/reference/generated/numpy.genfromtxt.html\n",
        "\n"
      ]
    },
    {
      "cell_type": "code",
      "metadata": {
        "id": "0RadNM43id_9"
      },
      "source": [
        "import pandas as pd\n",
        "pd.read_csv('convertcsv.csv', header=None)"
      ],
      "execution_count": null,
      "outputs": []
    },
    {
      "cell_type": "code",
      "metadata": {
        "id": "dnOQvTErjstF"
      },
      "source": [
        "numpy.genfromtxt(fname, dtype=<class 'float'>, comments='#', delimiter=None, skip_header=0, skip_footer=0, converters=None, missing_values=None, filling_values=None, usecols=None, names=None, excludelist=None, deletechars=\" !#$%&'()*+, -./:;<=>?@[\\\\]^{|}~\", replace_space='_', autostrip=False, case_sensitive=True, defaultfmt='f%i', unpack=None, usemask=False, loose=True, invalid_raise=True, max_rows=None, encoding='bytes', *, like=None)"
      ],
      "execution_count": null,
      "outputs": []
    },
    {
      "cell_type": "markdown",
      "metadata": {
        "id": "ewhooyYbion8"
      },
      "source": [
        "MATLAB: rng()\n",
        "- random number generator \n",
        "\n",
        "\n",
        "Python: seed(a, version)\n",
        "- a : Optional. The seed value needed to generate a random number. \n",
        "- version: An integer specifying how to convert the a parameter into a integer.\n",
        "Default value is 2\n",
        "https://www.w3schools.com/python/ref_random_seed.asp\n",
        "  "
      ]
    },
    {
      "cell_type": "code",
      "metadata": {
        "id": "kdoOmIXRj5sG"
      },
      "source": [
        "import random\n",
        "\n",
        "random.seed(10)\n",
        "print(random.random())"
      ],
      "execution_count": null,
      "outputs": []
    },
    {
      "cell_type": "markdown",
      "metadata": {
        "id": "rrEZHKxoltRX"
      },
      "source": [
        "MATLAB: sort()\n",
        "\n",
        "Python: \n",
        "\n",
        "*  list.sort() changes the list directly and doesn't return any value\n",
        "*  while sorted(list) doesn't change the list and returns the sorted list.* \n",
        "*  numpy.sort() Return a sorted copy of an array.*\n",
        "*  ndarray.sort Method to sort an array in-place.\n",
        "\n",
        "\n"
      ]
    },
    {
      "cell_type": "code",
      "metadata": {
        "colab": {
          "base_uri": "https://localhost:8080/"
        },
        "id": "s6dlKGHgopTP",
        "outputId": "c9cfc8bc-7e9b-437d-dc3b-907078bdb702"
      },
      "source": [
        "list = [1, 2, 4, 7, 1, 3]\n",
        "sorted(list)"
      ],
      "execution_count": 6,
      "outputs": [
        {
          "output_type": "execute_result",
          "data": {
            "text/plain": [
              "[1, 1, 2, 3, 4, 7]"
            ]
          },
          "metadata": {
            "tags": []
          },
          "execution_count": 6
        }
      ]
    },
    {
      "cell_type": "code",
      "metadata": {
        "colab": {
          "base_uri": "https://localhost:8080/"
        },
        "id": "oSj42FvQmGEN",
        "outputId": "0f87d0c2-42b0-40d3-ab60-604f9766e0c8"
      },
      "source": [
        "import numpy\n",
        "a = [1, 2, 4, 7, 1, 3]\n",
        "numpy.sort(a, axis=- 1, kind=None, order=None)"
      ],
      "execution_count": 3,
      "outputs": [
        {
          "output_type": "execute_result",
          "data": {
            "text/plain": [
              "array([1, 1, 2, 3, 4, 7])"
            ]
          },
          "metadata": {
            "tags": []
          },
          "execution_count": 3
        }
      ]
    },
    {
      "cell_type": "markdown",
      "metadata": {
        "id": "75ixzCJKqEQ2"
      },
      "source": [
        "MATLAB: hold on \n",
        "\n",
        "Python: pyplot acts as if hold was set to True \n",
        "- plt.show()\n",
        "https://stackoverflow.com/questions/21465988/python-equivalent-to-hold-on-in-matlab"
      ]
    },
    {
      "cell_type": "markdown",
      "metadata": {
        "id": "FR5hX76hrlhW"
      },
      "source": [
        "MATLAB: reshape()\n",
        "- matlab uses Fortran-like index order\n",
        "e.g. B = reshape(A,[],2)\n",
        "- forces into 2 columns \n",
        "e.g.2 c = reshape(A,[4 4 2])\n",
        "ans(:,:,1)\n",
        "\n",
        "Python: numpy.reshape(a, newshape, order='F')\n",
        "- Gives a new shape to an array without changing its data.\n",
        "- use F for Fortran to keen in shape with MATLAB (read the elements of a using this index order, and places the elements into the reshaped array using this Fortran index order rather than C-like order) \n",
        "-https://stackoverflow.com/questions/11892358/matlab-vs-python-reshape\n",
        "\n"
      ]
    },
    {
      "cell_type": "code",
      "metadata": {
        "colab": {
          "base_uri": "https://localhost:8080/",
          "height": 375
        },
        "id": "xXOgffBvuc9X",
        "outputId": "21f48967-26dc-4265-d50f-87a502e3c169"
      },
      "source": [
        "import numpy as np\n",
        "c = np.reshape(A, (1,1,2), order=\"F\")\n",
        "c[:,:,0]"
      ],
      "execution_count": 8,
      "outputs": [
        {
          "output_type": "error",
          "ename": "ValueError",
          "evalue": "ignored",
          "traceback": [
            "\u001b[0;31m---------------------------------------------------------------------------\u001b[0m",
            "\u001b[0;31mValueError\u001b[0m                                Traceback (most recent call last)",
            "\u001b[0;32m<ipython-input-8-84c1a46aebca>\u001b[0m in \u001b[0;36m<module>\u001b[0;34m()\u001b[0m\n\u001b[1;32m      1\u001b[0m \u001b[0;32mimport\u001b[0m \u001b[0mnumpy\u001b[0m \u001b[0;32mas\u001b[0m \u001b[0mnp\u001b[0m\u001b[0;34m\u001b[0m\u001b[0;34m\u001b[0m\u001b[0m\n\u001b[1;32m      2\u001b[0m \u001b[0;34m\u001b[0m\u001b[0m\n\u001b[0;32m----> 3\u001b[0;31m \u001b[0mr\u001b[0m \u001b[0;34m=\u001b[0m \u001b[0mnp\u001b[0m\u001b[0;34m.\u001b[0m\u001b[0mreshape\u001b[0m\u001b[0;34m(\u001b[0m\u001b[0ma\u001b[0m\u001b[0;34m,\u001b[0m \u001b[0;34m(\u001b[0m\u001b[0;36m1\u001b[0m\u001b[0;34m,\u001b[0m\u001b[0;36m1\u001b[0m\u001b[0;34m,\u001b[0m\u001b[0;36m2\u001b[0m\u001b[0;34m)\u001b[0m\u001b[0;34m,\u001b[0m \u001b[0morder\u001b[0m\u001b[0;34m=\u001b[0m\u001b[0;34m\"F\"\u001b[0m\u001b[0;34m)\u001b[0m\u001b[0;34m\u001b[0m\u001b[0;34m\u001b[0m\u001b[0m\n\u001b[0m",
            "\u001b[0;32m<__array_function__ internals>\u001b[0m in \u001b[0;36mreshape\u001b[0;34m(*args, **kwargs)\u001b[0m\n",
            "\u001b[0;32m/usr/local/lib/python3.7/dist-packages/numpy/core/fromnumeric.py\u001b[0m in \u001b[0;36mreshape\u001b[0;34m(a, newshape, order)\u001b[0m\n\u001b[1;32m    297\u001b[0m            [5, 6]])\n\u001b[1;32m    298\u001b[0m     \"\"\"\n\u001b[0;32m--> 299\u001b[0;31m     \u001b[0;32mreturn\u001b[0m \u001b[0m_wrapfunc\u001b[0m\u001b[0;34m(\u001b[0m\u001b[0ma\u001b[0m\u001b[0;34m,\u001b[0m \u001b[0;34m'reshape'\u001b[0m\u001b[0;34m,\u001b[0m \u001b[0mnewshape\u001b[0m\u001b[0;34m,\u001b[0m \u001b[0morder\u001b[0m\u001b[0;34m=\u001b[0m\u001b[0morder\u001b[0m\u001b[0;34m)\u001b[0m\u001b[0;34m\u001b[0m\u001b[0;34m\u001b[0m\u001b[0m\n\u001b[0m\u001b[1;32m    300\u001b[0m \u001b[0;34m\u001b[0m\u001b[0m\n\u001b[1;32m    301\u001b[0m \u001b[0;34m\u001b[0m\u001b[0m\n",
            "\u001b[0;32m/usr/local/lib/python3.7/dist-packages/numpy/core/fromnumeric.py\u001b[0m in \u001b[0;36m_wrapfunc\u001b[0;34m(obj, method, *args, **kwds)\u001b[0m\n\u001b[1;32m     53\u001b[0m     \u001b[0mbound\u001b[0m \u001b[0;34m=\u001b[0m \u001b[0mgetattr\u001b[0m\u001b[0;34m(\u001b[0m\u001b[0mobj\u001b[0m\u001b[0;34m,\u001b[0m \u001b[0mmethod\u001b[0m\u001b[0;34m,\u001b[0m \u001b[0;32mNone\u001b[0m\u001b[0;34m)\u001b[0m\u001b[0;34m\u001b[0m\u001b[0;34m\u001b[0m\u001b[0m\n\u001b[1;32m     54\u001b[0m     \u001b[0;32mif\u001b[0m \u001b[0mbound\u001b[0m \u001b[0;32mis\u001b[0m \u001b[0;32mNone\u001b[0m\u001b[0;34m:\u001b[0m\u001b[0;34m\u001b[0m\u001b[0;34m\u001b[0m\u001b[0m\n\u001b[0;32m---> 55\u001b[0;31m         \u001b[0;32mreturn\u001b[0m \u001b[0m_wrapit\u001b[0m\u001b[0;34m(\u001b[0m\u001b[0mobj\u001b[0m\u001b[0;34m,\u001b[0m \u001b[0mmethod\u001b[0m\u001b[0;34m,\u001b[0m \u001b[0;34m*\u001b[0m\u001b[0margs\u001b[0m\u001b[0;34m,\u001b[0m \u001b[0;34m**\u001b[0m\u001b[0mkwds\u001b[0m\u001b[0;34m)\u001b[0m\u001b[0;34m\u001b[0m\u001b[0;34m\u001b[0m\u001b[0m\n\u001b[0m\u001b[1;32m     56\u001b[0m \u001b[0;34m\u001b[0m\u001b[0m\n\u001b[1;32m     57\u001b[0m     \u001b[0;32mtry\u001b[0m\u001b[0;34m:\u001b[0m\u001b[0;34m\u001b[0m\u001b[0;34m\u001b[0m\u001b[0m\n",
            "\u001b[0;32m/usr/local/lib/python3.7/dist-packages/numpy/core/fromnumeric.py\u001b[0m in \u001b[0;36m_wrapit\u001b[0;34m(obj, method, *args, **kwds)\u001b[0m\n\u001b[1;32m     42\u001b[0m     \u001b[0;32mexcept\u001b[0m \u001b[0mAttributeError\u001b[0m\u001b[0;34m:\u001b[0m\u001b[0;34m\u001b[0m\u001b[0;34m\u001b[0m\u001b[0m\n\u001b[1;32m     43\u001b[0m         \u001b[0mwrap\u001b[0m \u001b[0;34m=\u001b[0m \u001b[0;32mNone\u001b[0m\u001b[0;34m\u001b[0m\u001b[0;34m\u001b[0m\u001b[0m\n\u001b[0;32m---> 44\u001b[0;31m     \u001b[0mresult\u001b[0m \u001b[0;34m=\u001b[0m \u001b[0mgetattr\u001b[0m\u001b[0;34m(\u001b[0m\u001b[0masarray\u001b[0m\u001b[0;34m(\u001b[0m\u001b[0mobj\u001b[0m\u001b[0;34m)\u001b[0m\u001b[0;34m,\u001b[0m \u001b[0mmethod\u001b[0m\u001b[0;34m)\u001b[0m\u001b[0;34m(\u001b[0m\u001b[0;34m*\u001b[0m\u001b[0margs\u001b[0m\u001b[0;34m,\u001b[0m \u001b[0;34m**\u001b[0m\u001b[0mkwds\u001b[0m\u001b[0;34m)\u001b[0m\u001b[0;34m\u001b[0m\u001b[0;34m\u001b[0m\u001b[0m\n\u001b[0m\u001b[1;32m     45\u001b[0m     \u001b[0;32mif\u001b[0m \u001b[0mwrap\u001b[0m\u001b[0;34m:\u001b[0m\u001b[0;34m\u001b[0m\u001b[0;34m\u001b[0m\u001b[0m\n\u001b[1;32m     46\u001b[0m         \u001b[0;32mif\u001b[0m \u001b[0;32mnot\u001b[0m \u001b[0misinstance\u001b[0m\u001b[0;34m(\u001b[0m\u001b[0mresult\u001b[0m\u001b[0;34m,\u001b[0m \u001b[0mmu\u001b[0m\u001b[0;34m.\u001b[0m\u001b[0mndarray\u001b[0m\u001b[0;34m)\u001b[0m\u001b[0;34m:\u001b[0m\u001b[0;34m\u001b[0m\u001b[0;34m\u001b[0m\u001b[0m\n",
            "\u001b[0;31mValueError\u001b[0m: cannot reshape array of size 6 into shape (1,1,2)"
          ]
        }
      ]
    },
    {
      "cell_type": "markdown",
      "metadata": {
        "id": "Ua-_CjnwvVzn"
      },
      "source": [
        "MATLAB: rand()\n",
        "\n",
        "-Uniformly distributed random numbers\n",
        "\n",
        "Python: numpy.random.uniform\n",
        "- numpy.random.uniform(low=0.0, high=1.0, size=None)"
      ]
    },
    {
      "cell_type": "code",
      "metadata": {
        "colab": {
          "base_uri": "https://localhost:8080/"
        },
        "id": "39dPNKbOxE-6",
        "outputId": "55a123d3-1f25-47b5-f950-8a3c15ee5eed"
      },
      "source": [
        "s = np.random.uniform(-1,0,10)\n",
        "print(s)"
      ],
      "execution_count": 12,
      "outputs": [
        {
          "output_type": "stream",
          "text": [
            "[-0.55418719 -0.95541081 -0.51851906 -0.54496512 -0.11861292 -0.99750911\n",
            " -0.26650635 -0.64796386 -0.27103171 -0.69544598]\n"
          ],
          "name": "stdout"
        }
      ]
    },
    {
      "cell_type": "markdown",
      "metadata": {
        "id": "5Fn13c1-gqBN"
      },
      "source": [
        "MATLAB + python: \n",
        "\n",
        "-mean()\n",
        "\n",
        "-std()\n"
      ]
    }
  ]
}